{
  "nbformat": 4,
  "nbformat_minor": 0,
  "metadata": {
    "colab": {
      "provenance": [],
      "toc_visible": true,
      "authorship_tag": "ABX9TyP/LViYfZKgJcWoggVzcWwa",
      "include_colab_link": true
    },
    "kernelspec": {
      "name": "python3",
      "display_name": "Python 3"
    },
    "language_info": {
      "name": "python"
    }
  },
  "cells": [
    {
      "cell_type": "markdown",
      "metadata": {
        "id": "view-in-github",
        "colab_type": "text"
      },
      "source": [
        "<a href=\"https://colab.research.google.com/github/rainzoo/notebook/blob/main/Python_Objects.ipynb\" target=\"_parent\"><img src=\"https://colab.research.google.com/assets/colab-badge.svg\" alt=\"Open In Colab\"/></a>"
      ]
    },
    {
      "cell_type": "markdown",
      "source": [
        "# Everything is an object\n",
        "\n"
      ],
      "metadata": {
        "id": "wlHuazi9V3Qk"
      }
    },
    {
      "cell_type": "code",
      "source": [
        "# import rich to help display pretty output\n",
        "from rich import print\n",
        "from rich import inspect\n",
        "\n",
        "%load_ext rich"
      ],
      "metadata": {
        "id": "8y_bPn_0Mb3F",
        "colab": {
          "base_uri": "https://localhost:8080/"
        },
        "outputId": "11723db6-ba9e-47c9-d6a0-4d754a74504a"
      },
      "execution_count": 30,
      "outputs": [
        {
          "output_type": "stream",
          "name": "stdout",
          "text": [
            "The rich extension is already loaded. To reload it, use:\n",
            "  %reload_ext rich\n"
          ]
        }
      ]
    },
    {
      "cell_type": "code",
      "source": [
        "inspect(object)"
      ],
      "metadata": {
        "colab": {
          "base_uri": "https://localhost:8080/",
          "height": 133
        },
        "id": "PJzqTElQwYbL",
        "outputId": "be09a76a-7006-42e2-d77c-56d49e2db94a"
      },
      "execution_count": 31,
      "outputs": [
        {
          "output_type": "display_data",
          "data": {
            "text/plain": [
              "\u001b[34m╭─\u001b[0m\u001b[34m─────────────────────\u001b[0m\u001b[34m \u001b[0m\u001b[1;34m<\u001b[0m\u001b[1;95mclass\u001b[0m\u001b[39m \u001b[0m\u001b[32m'object'\u001b[0m\u001b[1;34m>\u001b[0m\u001b[34m \u001b[0m\u001b[34m─────────────────────\u001b[0m\u001b[34m─╮\u001b[0m\n",
              "\u001b[34m│\u001b[0m \u001b[3;96mclass \u001b[0m\u001b[1;31mobject\u001b[0m\u001b[1m(\u001b[0m\u001b[1m)\u001b[0m:                                              \u001b[34m│\u001b[0m\n",
              "\u001b[34m│\u001b[0m                                                              \u001b[34m│\u001b[0m\n",
              "\u001b[34m│\u001b[0m \u001b[36mThe base class of the class hierarchy.\u001b[0m                       \u001b[34m│\u001b[0m\n",
              "\u001b[34m│\u001b[0m                                                              \u001b[34m│\u001b[0m\n",
              "\u001b[34m│\u001b[0m \u001b[1;36m23\u001b[0m\u001b[3m attribute(s) not shown.\u001b[0m Run \u001b[1;35minspect\u001b[0m\u001b[1m(\u001b[0minspect\u001b[1m)\u001b[0m for options. \u001b[34m│\u001b[0m\n",
              "\u001b[34m╰──────────────────────────────────────────────────────────────╯\u001b[0m\n"
            ],
            "text/html": [
              "<pre style=\"white-space:pre;overflow-x:auto;line-height:normal;font-family:Menlo,'DejaVu Sans Mono',consolas,'Courier New',monospace\"><span style=\"color: #000080; text-decoration-color: #000080\">╭────────────────────── </span><span style=\"color: #000080; text-decoration-color: #000080; font-weight: bold\">&lt;</span><span style=\"color: #ff00ff; text-decoration-color: #ff00ff; font-weight: bold\">class</span><span style=\"color: #000000; text-decoration-color: #000000\"> </span><span style=\"color: #008000; text-decoration-color: #008000\">'object'</span><span style=\"color: #000080; text-decoration-color: #000080; font-weight: bold\">&gt;</span><span style=\"color: #000080; text-decoration-color: #000080\"> ──────────────────────╮</span>\n",
              "<span style=\"color: #000080; text-decoration-color: #000080\">│</span> <span style=\"color: #00ffff; text-decoration-color: #00ffff; font-style: italic\">class </span><span style=\"color: #800000; text-decoration-color: #800000; font-weight: bold\">object</span><span style=\"font-weight: bold\">()</span>:                                              <span style=\"color: #000080; text-decoration-color: #000080\">│</span>\n",
              "<span style=\"color: #000080; text-decoration-color: #000080\">│</span>                                                              <span style=\"color: #000080; text-decoration-color: #000080\">│</span>\n",
              "<span style=\"color: #000080; text-decoration-color: #000080\">│</span> <span style=\"color: #008080; text-decoration-color: #008080\">The base class of the class hierarchy.</span>                       <span style=\"color: #000080; text-decoration-color: #000080\">│</span>\n",
              "<span style=\"color: #000080; text-decoration-color: #000080\">│</span>                                                              <span style=\"color: #000080; text-decoration-color: #000080\">│</span>\n",
              "<span style=\"color: #000080; text-decoration-color: #000080\">│</span> <span style=\"color: #008080; text-decoration-color: #008080; font-weight: bold\">23</span><span style=\"font-style: italic\"> attribute(s) not shown.</span> Run <span style=\"color: #800080; text-decoration-color: #800080; font-weight: bold\">inspect</span><span style=\"font-weight: bold\">(</span>inspect<span style=\"font-weight: bold\">)</span> for options. <span style=\"color: #000080; text-decoration-color: #000080\">│</span>\n",
              "<span style=\"color: #000080; text-decoration-color: #000080\">╰──────────────────────────────────────────────────────────────╯</span>\n",
              "</pre>\n"
            ]
          },
          "metadata": {}
        }
      ]
    },
    {
      "cell_type": "markdown",
      "source": [
        "## Every object has an identity, a type and a value\n",
        "\n",
        "Create a Python object and assign a value"
      ],
      "metadata": {
        "id": "0vH2KTuqWXB3"
      }
    },
    {
      "cell_type": "code",
      "source": [
        "x = 1\n",
        "inspect(x)\n",
        "print(f\"x id: {id(x)}, value: {x}\")\n",
        "\n",
        "x = 2\n",
        "inspect(x)\n",
        "print(f\"x id: {id(x)}, value: {x}\")"
      ],
      "metadata": {
        "colab": {
          "base_uri": "https://localhost:8080/",
          "height": 479
        },
        "id": "ORq__dReV7s-",
        "outputId": "a9cb961c-5a6e-48af-c93c-09825bc3b0d7"
      },
      "execution_count": 32,
      "outputs": [
        {
          "output_type": "display_data",
          "data": {
            "text/plain": [
              "\u001b[34m╭─\u001b[0m\u001b[34m─────\u001b[0m\u001b[34m \u001b[0m\u001b[1;34m<\u001b[0m\u001b[1;95mclass\u001b[0m\u001b[39m \u001b[0m\u001b[32m'int'\u001b[0m\u001b[1;34m>\u001b[0m\u001b[34m \u001b[0m\u001b[34m──────\u001b[0m\u001b[34m─╮\u001b[0m\n",
              "\u001b[34m│\u001b[0m \u001b[1;35mint\u001b[0m\u001b[1;36m(\u001b[0m\u001b[1;36m[\u001b[0m\u001b[36mx\u001b[0m\u001b[1;36m]\u001b[0m\u001b[1;36m)\u001b[0m\u001b[36m -> integer\u001b[0m        \u001b[34m│\u001b[0m\n",
              "\u001b[34m│\u001b[0m \u001b[1;35mint\u001b[0m\u001b[1;36m(\u001b[0m\u001b[36mx, \u001b[0m\u001b[33mbase\u001b[0m\u001b[36m=\u001b[0m\u001b[1;36m10\u001b[0m\u001b[1;36m)\u001b[0m\u001b[36m -> integer\u001b[0m \u001b[34m│\u001b[0m\n",
              "\u001b[34m│\u001b[0m                            \u001b[34m│\u001b[0m\n",
              "\u001b[34m│\u001b[0m \u001b[32m╭────────────────────────╮\u001b[0m \u001b[34m│\u001b[0m\n",
              "\u001b[34m│\u001b[0m \u001b[32m│\u001b[0m \u001b[1;36m1\u001b[0m                      \u001b[32m│\u001b[0m \u001b[34m│\u001b[0m\n",
              "\u001b[34m│\u001b[0m \u001b[32m╰────────────────────────╯\u001b[0m \u001b[34m│\u001b[0m\n",
              "\u001b[34m│\u001b[0m                            \u001b[34m│\u001b[0m\n",
              "\u001b[34m│\u001b[0m \u001b[3;33mdenominator\u001b[0m = \u001b[1;36m1\u001b[0m            \u001b[34m│\u001b[0m\n",
              "\u001b[34m│\u001b[0m        \u001b[3;33mimag\u001b[0m = \u001b[1;36m0\u001b[0m            \u001b[34m│\u001b[0m\n",
              "\u001b[34m│\u001b[0m   \u001b[3;33mnumerator\u001b[0m = \u001b[1;36m1\u001b[0m            \u001b[34m│\u001b[0m\n",
              "\u001b[34m│\u001b[0m        \u001b[3;33mreal\u001b[0m = \u001b[1;36m1\u001b[0m            \u001b[34m│\u001b[0m\n",
              "\u001b[34m╰────────────────────────────╯\u001b[0m\n"
            ],
            "text/html": [
              "<pre style=\"white-space:pre;overflow-x:auto;line-height:normal;font-family:Menlo,'DejaVu Sans Mono',consolas,'Courier New',monospace\"><span style=\"color: #000080; text-decoration-color: #000080\">╭────── </span><span style=\"color: #000080; text-decoration-color: #000080; font-weight: bold\">&lt;</span><span style=\"color: #ff00ff; text-decoration-color: #ff00ff; font-weight: bold\">class</span><span style=\"color: #000000; text-decoration-color: #000000\"> </span><span style=\"color: #008000; text-decoration-color: #008000\">'int'</span><span style=\"color: #000080; text-decoration-color: #000080; font-weight: bold\">&gt;</span><span style=\"color: #000080; text-decoration-color: #000080\"> ───────╮</span>\n",
              "<span style=\"color: #000080; text-decoration-color: #000080\">│</span> <span style=\"color: #800080; text-decoration-color: #800080; font-weight: bold\">int</span><span style=\"color: #008080; text-decoration-color: #008080; font-weight: bold\">([</span><span style=\"color: #008080; text-decoration-color: #008080\">x</span><span style=\"color: #008080; text-decoration-color: #008080; font-weight: bold\">])</span><span style=\"color: #008080; text-decoration-color: #008080\"> -&gt; integer</span>        <span style=\"color: #000080; text-decoration-color: #000080\">│</span>\n",
              "<span style=\"color: #000080; text-decoration-color: #000080\">│</span> <span style=\"color: #800080; text-decoration-color: #800080; font-weight: bold\">int</span><span style=\"color: #008080; text-decoration-color: #008080; font-weight: bold\">(</span><span style=\"color: #008080; text-decoration-color: #008080\">x, </span><span style=\"color: #808000; text-decoration-color: #808000\">base</span><span style=\"color: #008080; text-decoration-color: #008080\">=</span><span style=\"color: #008080; text-decoration-color: #008080; font-weight: bold\">10</span><span style=\"color: #008080; text-decoration-color: #008080; font-weight: bold\">)</span><span style=\"color: #008080; text-decoration-color: #008080\"> -&gt; integer</span> <span style=\"color: #000080; text-decoration-color: #000080\">│</span>\n",
              "<span style=\"color: #000080; text-decoration-color: #000080\">│</span>                            <span style=\"color: #000080; text-decoration-color: #000080\">│</span>\n",
              "<span style=\"color: #000080; text-decoration-color: #000080\">│</span> <span style=\"color: #008000; text-decoration-color: #008000\">╭────────────────────────╮</span> <span style=\"color: #000080; text-decoration-color: #000080\">│</span>\n",
              "<span style=\"color: #000080; text-decoration-color: #000080\">│</span> <span style=\"color: #008000; text-decoration-color: #008000\">│</span> <span style=\"color: #008080; text-decoration-color: #008080; font-weight: bold\">1</span>                      <span style=\"color: #008000; text-decoration-color: #008000\">│</span> <span style=\"color: #000080; text-decoration-color: #000080\">│</span>\n",
              "<span style=\"color: #000080; text-decoration-color: #000080\">│</span> <span style=\"color: #008000; text-decoration-color: #008000\">╰────────────────────────╯</span> <span style=\"color: #000080; text-decoration-color: #000080\">│</span>\n",
              "<span style=\"color: #000080; text-decoration-color: #000080\">│</span>                            <span style=\"color: #000080; text-decoration-color: #000080\">│</span>\n",
              "<span style=\"color: #000080; text-decoration-color: #000080\">│</span> <span style=\"color: #808000; text-decoration-color: #808000; font-style: italic\">denominator</span> = <span style=\"color: #008080; text-decoration-color: #008080; font-weight: bold\">1</span>            <span style=\"color: #000080; text-decoration-color: #000080\">│</span>\n",
              "<span style=\"color: #000080; text-decoration-color: #000080\">│</span>        <span style=\"color: #808000; text-decoration-color: #808000; font-style: italic\">imag</span> = <span style=\"color: #008080; text-decoration-color: #008080; font-weight: bold\">0</span>            <span style=\"color: #000080; text-decoration-color: #000080\">│</span>\n",
              "<span style=\"color: #000080; text-decoration-color: #000080\">│</span>   <span style=\"color: #808000; text-decoration-color: #808000; font-style: italic\">numerator</span> = <span style=\"color: #008080; text-decoration-color: #008080; font-weight: bold\">1</span>            <span style=\"color: #000080; text-decoration-color: #000080\">│</span>\n",
              "<span style=\"color: #000080; text-decoration-color: #000080\">│</span>        <span style=\"color: #808000; text-decoration-color: #808000; font-style: italic\">real</span> = <span style=\"color: #008080; text-decoration-color: #008080; font-weight: bold\">1</span>            <span style=\"color: #000080; text-decoration-color: #000080\">│</span>\n",
              "<span style=\"color: #000080; text-decoration-color: #000080\">╰────────────────────────────╯</span>\n",
              "</pre>\n"
            ]
          },
          "metadata": {}
        },
        {
          "output_type": "display_data",
          "data": {
            "text/plain": [
              "x id: \u001b[1;36m140396850954480\u001b[0m, value: \u001b[1;36m1\u001b[0m\n"
            ],
            "text/html": [
              "<pre style=\"white-space:pre;overflow-x:auto;line-height:normal;font-family:Menlo,'DejaVu Sans Mono',consolas,'Courier New',monospace\">x id: <span style=\"color: #008080; text-decoration-color: #008080; font-weight: bold\">140396850954480</span>, value: <span style=\"color: #008080; text-decoration-color: #008080; font-weight: bold\">1</span>\n",
              "</pre>\n"
            ]
          },
          "metadata": {}
        },
        {
          "output_type": "display_data",
          "data": {
            "text/plain": [
              "\u001b[34m╭─\u001b[0m\u001b[34m─────\u001b[0m\u001b[34m \u001b[0m\u001b[1;34m<\u001b[0m\u001b[1;95mclass\u001b[0m\u001b[39m \u001b[0m\u001b[32m'int'\u001b[0m\u001b[1;34m>\u001b[0m\u001b[34m \u001b[0m\u001b[34m──────\u001b[0m\u001b[34m─╮\u001b[0m\n",
              "\u001b[34m│\u001b[0m \u001b[1;35mint\u001b[0m\u001b[1;36m(\u001b[0m\u001b[1;36m[\u001b[0m\u001b[36mx\u001b[0m\u001b[1;36m]\u001b[0m\u001b[1;36m)\u001b[0m\u001b[36m -> integer\u001b[0m        \u001b[34m│\u001b[0m\n",
              "\u001b[34m│\u001b[0m \u001b[1;35mint\u001b[0m\u001b[1;36m(\u001b[0m\u001b[36mx, \u001b[0m\u001b[33mbase\u001b[0m\u001b[36m=\u001b[0m\u001b[1;36m10\u001b[0m\u001b[1;36m)\u001b[0m\u001b[36m -> integer\u001b[0m \u001b[34m│\u001b[0m\n",
              "\u001b[34m│\u001b[0m                            \u001b[34m│\u001b[0m\n",
              "\u001b[34m│\u001b[0m \u001b[32m╭────────────────────────╮\u001b[0m \u001b[34m│\u001b[0m\n",
              "\u001b[34m│\u001b[0m \u001b[32m│\u001b[0m \u001b[1;36m2\u001b[0m                      \u001b[32m│\u001b[0m \u001b[34m│\u001b[0m\n",
              "\u001b[34m│\u001b[0m \u001b[32m╰────────────────────────╯\u001b[0m \u001b[34m│\u001b[0m\n",
              "\u001b[34m│\u001b[0m                            \u001b[34m│\u001b[0m\n",
              "\u001b[34m│\u001b[0m \u001b[3;33mdenominator\u001b[0m = \u001b[1;36m1\u001b[0m            \u001b[34m│\u001b[0m\n",
              "\u001b[34m│\u001b[0m        \u001b[3;33mimag\u001b[0m = \u001b[1;36m0\u001b[0m            \u001b[34m│\u001b[0m\n",
              "\u001b[34m│\u001b[0m   \u001b[3;33mnumerator\u001b[0m = \u001b[1;36m2\u001b[0m            \u001b[34m│\u001b[0m\n",
              "\u001b[34m│\u001b[0m        \u001b[3;33mreal\u001b[0m = \u001b[1;36m2\u001b[0m            \u001b[34m│\u001b[0m\n",
              "\u001b[34m╰────────────────────────────╯\u001b[0m\n"
            ],
            "text/html": [
              "<pre style=\"white-space:pre;overflow-x:auto;line-height:normal;font-family:Menlo,'DejaVu Sans Mono',consolas,'Courier New',monospace\"><span style=\"color: #000080; text-decoration-color: #000080\">╭────── </span><span style=\"color: #000080; text-decoration-color: #000080; font-weight: bold\">&lt;</span><span style=\"color: #ff00ff; text-decoration-color: #ff00ff; font-weight: bold\">class</span><span style=\"color: #000000; text-decoration-color: #000000\"> </span><span style=\"color: #008000; text-decoration-color: #008000\">'int'</span><span style=\"color: #000080; text-decoration-color: #000080; font-weight: bold\">&gt;</span><span style=\"color: #000080; text-decoration-color: #000080\"> ───────╮</span>\n",
              "<span style=\"color: #000080; text-decoration-color: #000080\">│</span> <span style=\"color: #800080; text-decoration-color: #800080; font-weight: bold\">int</span><span style=\"color: #008080; text-decoration-color: #008080; font-weight: bold\">([</span><span style=\"color: #008080; text-decoration-color: #008080\">x</span><span style=\"color: #008080; text-decoration-color: #008080; font-weight: bold\">])</span><span style=\"color: #008080; text-decoration-color: #008080\"> -&gt; integer</span>        <span style=\"color: #000080; text-decoration-color: #000080\">│</span>\n",
              "<span style=\"color: #000080; text-decoration-color: #000080\">│</span> <span style=\"color: #800080; text-decoration-color: #800080; font-weight: bold\">int</span><span style=\"color: #008080; text-decoration-color: #008080; font-weight: bold\">(</span><span style=\"color: #008080; text-decoration-color: #008080\">x, </span><span style=\"color: #808000; text-decoration-color: #808000\">base</span><span style=\"color: #008080; text-decoration-color: #008080\">=</span><span style=\"color: #008080; text-decoration-color: #008080; font-weight: bold\">10</span><span style=\"color: #008080; text-decoration-color: #008080; font-weight: bold\">)</span><span style=\"color: #008080; text-decoration-color: #008080\"> -&gt; integer</span> <span style=\"color: #000080; text-decoration-color: #000080\">│</span>\n",
              "<span style=\"color: #000080; text-decoration-color: #000080\">│</span>                            <span style=\"color: #000080; text-decoration-color: #000080\">│</span>\n",
              "<span style=\"color: #000080; text-decoration-color: #000080\">│</span> <span style=\"color: #008000; text-decoration-color: #008000\">╭────────────────────────╮</span> <span style=\"color: #000080; text-decoration-color: #000080\">│</span>\n",
              "<span style=\"color: #000080; text-decoration-color: #000080\">│</span> <span style=\"color: #008000; text-decoration-color: #008000\">│</span> <span style=\"color: #008080; text-decoration-color: #008080; font-weight: bold\">2</span>                      <span style=\"color: #008000; text-decoration-color: #008000\">│</span> <span style=\"color: #000080; text-decoration-color: #000080\">│</span>\n",
              "<span style=\"color: #000080; text-decoration-color: #000080\">│</span> <span style=\"color: #008000; text-decoration-color: #008000\">╰────────────────────────╯</span> <span style=\"color: #000080; text-decoration-color: #000080\">│</span>\n",
              "<span style=\"color: #000080; text-decoration-color: #000080\">│</span>                            <span style=\"color: #000080; text-decoration-color: #000080\">│</span>\n",
              "<span style=\"color: #000080; text-decoration-color: #000080\">│</span> <span style=\"color: #808000; text-decoration-color: #808000; font-style: italic\">denominator</span> = <span style=\"color: #008080; text-decoration-color: #008080; font-weight: bold\">1</span>            <span style=\"color: #000080; text-decoration-color: #000080\">│</span>\n",
              "<span style=\"color: #000080; text-decoration-color: #000080\">│</span>        <span style=\"color: #808000; text-decoration-color: #808000; font-style: italic\">imag</span> = <span style=\"color: #008080; text-decoration-color: #008080; font-weight: bold\">0</span>            <span style=\"color: #000080; text-decoration-color: #000080\">│</span>\n",
              "<span style=\"color: #000080; text-decoration-color: #000080\">│</span>   <span style=\"color: #808000; text-decoration-color: #808000; font-style: italic\">numerator</span> = <span style=\"color: #008080; text-decoration-color: #008080; font-weight: bold\">2</span>            <span style=\"color: #000080; text-decoration-color: #000080\">│</span>\n",
              "<span style=\"color: #000080; text-decoration-color: #000080\">│</span>        <span style=\"color: #808000; text-decoration-color: #808000; font-style: italic\">real</span> = <span style=\"color: #008080; text-decoration-color: #008080; font-weight: bold\">2</span>            <span style=\"color: #000080; text-decoration-color: #000080\">│</span>\n",
              "<span style=\"color: #000080; text-decoration-color: #000080\">╰────────────────────────────╯</span>\n",
              "</pre>\n"
            ]
          },
          "metadata": {}
        },
        {
          "output_type": "display_data",
          "data": {
            "text/plain": [
              "x id: \u001b[1;36m140396850954512\u001b[0m, value: \u001b[1;36m2\u001b[0m\n"
            ],
            "text/html": [
              "<pre style=\"white-space:pre;overflow-x:auto;line-height:normal;font-family:Menlo,'DejaVu Sans Mono',consolas,'Courier New',monospace\">x id: <span style=\"color: #008080; text-decoration-color: #008080; font-weight: bold\">140396850954512</span>, value: <span style=\"color: #008080; text-decoration-color: #008080; font-weight: bold\">2</span>\n",
              "</pre>\n"
            ]
          },
          "metadata": {}
        }
      ]
    },
    {
      "cell_type": "markdown",
      "source": [
        ":## An object’s identity never changes once it has been created\n",
        "\n",
        "Create another Python object and assign same values"
      ],
      "metadata": {
        "id": "6uOfxWNdWngN"
      }
    },
    {
      "cell_type": "code",
      "source": [
        "y = 1\n",
        "inspect(y)\n",
        "print(f\"y id: {id(y)}, value: {y}\")\n",
        "print(f\"id of y same as id of x : {id(x) == id(y)}\")\n",
        "print(f\"id of y same as id of 1 : {id(1) == id(y)}\")\n",
        "\n",
        "y = 2\n",
        "inspect(y)\n",
        "print(f\"y id: {id(y)}, value: {y}\")"
      ],
      "metadata": {
        "colab": {
          "base_uri": "https://localhost:8080/",
          "height": 512
        },
        "id": "L6T9N4-VWOI7",
        "outputId": "32a6b75a-2f76-47a2-9700-889afb562aad"
      },
      "execution_count": 33,
      "outputs": [
        {
          "output_type": "display_data",
          "data": {
            "text/plain": [
              "\u001b[34m╭─\u001b[0m\u001b[34m─────\u001b[0m\u001b[34m \u001b[0m\u001b[1;34m<\u001b[0m\u001b[1;95mclass\u001b[0m\u001b[39m \u001b[0m\u001b[32m'int'\u001b[0m\u001b[1;34m>\u001b[0m\u001b[34m \u001b[0m\u001b[34m──────\u001b[0m\u001b[34m─╮\u001b[0m\n",
              "\u001b[34m│\u001b[0m \u001b[1;35mint\u001b[0m\u001b[1;36m(\u001b[0m\u001b[1;36m[\u001b[0m\u001b[36mx\u001b[0m\u001b[1;36m]\u001b[0m\u001b[1;36m)\u001b[0m\u001b[36m -> integer\u001b[0m        \u001b[34m│\u001b[0m\n",
              "\u001b[34m│\u001b[0m \u001b[1;35mint\u001b[0m\u001b[1;36m(\u001b[0m\u001b[36mx, \u001b[0m\u001b[33mbase\u001b[0m\u001b[36m=\u001b[0m\u001b[1;36m10\u001b[0m\u001b[1;36m)\u001b[0m\u001b[36m -> integer\u001b[0m \u001b[34m│\u001b[0m\n",
              "\u001b[34m│\u001b[0m                            \u001b[34m│\u001b[0m\n",
              "\u001b[34m│\u001b[0m \u001b[32m╭────────────────────────╮\u001b[0m \u001b[34m│\u001b[0m\n",
              "\u001b[34m│\u001b[0m \u001b[32m│\u001b[0m \u001b[1;36m1\u001b[0m                      \u001b[32m│\u001b[0m \u001b[34m│\u001b[0m\n",
              "\u001b[34m│\u001b[0m \u001b[32m╰────────────────────────╯\u001b[0m \u001b[34m│\u001b[0m\n",
              "\u001b[34m│\u001b[0m                            \u001b[34m│\u001b[0m\n",
              "\u001b[34m│\u001b[0m \u001b[3;33mdenominator\u001b[0m = \u001b[1;36m1\u001b[0m            \u001b[34m│\u001b[0m\n",
              "\u001b[34m│\u001b[0m        \u001b[3;33mimag\u001b[0m = \u001b[1;36m0\u001b[0m            \u001b[34m│\u001b[0m\n",
              "\u001b[34m│\u001b[0m   \u001b[3;33mnumerator\u001b[0m = \u001b[1;36m1\u001b[0m            \u001b[34m│\u001b[0m\n",
              "\u001b[34m│\u001b[0m        \u001b[3;33mreal\u001b[0m = \u001b[1;36m1\u001b[0m            \u001b[34m│\u001b[0m\n",
              "\u001b[34m╰────────────────────────────╯\u001b[0m\n"
            ],
            "text/html": [
              "<pre style=\"white-space:pre;overflow-x:auto;line-height:normal;font-family:Menlo,'DejaVu Sans Mono',consolas,'Courier New',monospace\"><span style=\"color: #000080; text-decoration-color: #000080\">╭────── </span><span style=\"color: #000080; text-decoration-color: #000080; font-weight: bold\">&lt;</span><span style=\"color: #ff00ff; text-decoration-color: #ff00ff; font-weight: bold\">class</span><span style=\"color: #000000; text-decoration-color: #000000\"> </span><span style=\"color: #008000; text-decoration-color: #008000\">'int'</span><span style=\"color: #000080; text-decoration-color: #000080; font-weight: bold\">&gt;</span><span style=\"color: #000080; text-decoration-color: #000080\"> ───────╮</span>\n",
              "<span style=\"color: #000080; text-decoration-color: #000080\">│</span> <span style=\"color: #800080; text-decoration-color: #800080; font-weight: bold\">int</span><span style=\"color: #008080; text-decoration-color: #008080; font-weight: bold\">([</span><span style=\"color: #008080; text-decoration-color: #008080\">x</span><span style=\"color: #008080; text-decoration-color: #008080; font-weight: bold\">])</span><span style=\"color: #008080; text-decoration-color: #008080\"> -&gt; integer</span>        <span style=\"color: #000080; text-decoration-color: #000080\">│</span>\n",
              "<span style=\"color: #000080; text-decoration-color: #000080\">│</span> <span style=\"color: #800080; text-decoration-color: #800080; font-weight: bold\">int</span><span style=\"color: #008080; text-decoration-color: #008080; font-weight: bold\">(</span><span style=\"color: #008080; text-decoration-color: #008080\">x, </span><span style=\"color: #808000; text-decoration-color: #808000\">base</span><span style=\"color: #008080; text-decoration-color: #008080\">=</span><span style=\"color: #008080; text-decoration-color: #008080; font-weight: bold\">10</span><span style=\"color: #008080; text-decoration-color: #008080; font-weight: bold\">)</span><span style=\"color: #008080; text-decoration-color: #008080\"> -&gt; integer</span> <span style=\"color: #000080; text-decoration-color: #000080\">│</span>\n",
              "<span style=\"color: #000080; text-decoration-color: #000080\">│</span>                            <span style=\"color: #000080; text-decoration-color: #000080\">│</span>\n",
              "<span style=\"color: #000080; text-decoration-color: #000080\">│</span> <span style=\"color: #008000; text-decoration-color: #008000\">╭────────────────────────╮</span> <span style=\"color: #000080; text-decoration-color: #000080\">│</span>\n",
              "<span style=\"color: #000080; text-decoration-color: #000080\">│</span> <span style=\"color: #008000; text-decoration-color: #008000\">│</span> <span style=\"color: #008080; text-decoration-color: #008080; font-weight: bold\">1</span>                      <span style=\"color: #008000; text-decoration-color: #008000\">│</span> <span style=\"color: #000080; text-decoration-color: #000080\">│</span>\n",
              "<span style=\"color: #000080; text-decoration-color: #000080\">│</span> <span style=\"color: #008000; text-decoration-color: #008000\">╰────────────────────────╯</span> <span style=\"color: #000080; text-decoration-color: #000080\">│</span>\n",
              "<span style=\"color: #000080; text-decoration-color: #000080\">│</span>                            <span style=\"color: #000080; text-decoration-color: #000080\">│</span>\n",
              "<span style=\"color: #000080; text-decoration-color: #000080\">│</span> <span style=\"color: #808000; text-decoration-color: #808000; font-style: italic\">denominator</span> = <span style=\"color: #008080; text-decoration-color: #008080; font-weight: bold\">1</span>            <span style=\"color: #000080; text-decoration-color: #000080\">│</span>\n",
              "<span style=\"color: #000080; text-decoration-color: #000080\">│</span>        <span style=\"color: #808000; text-decoration-color: #808000; font-style: italic\">imag</span> = <span style=\"color: #008080; text-decoration-color: #008080; font-weight: bold\">0</span>            <span style=\"color: #000080; text-decoration-color: #000080\">│</span>\n",
              "<span style=\"color: #000080; text-decoration-color: #000080\">│</span>   <span style=\"color: #808000; text-decoration-color: #808000; font-style: italic\">numerator</span> = <span style=\"color: #008080; text-decoration-color: #008080; font-weight: bold\">1</span>            <span style=\"color: #000080; text-decoration-color: #000080\">│</span>\n",
              "<span style=\"color: #000080; text-decoration-color: #000080\">│</span>        <span style=\"color: #808000; text-decoration-color: #808000; font-style: italic\">real</span> = <span style=\"color: #008080; text-decoration-color: #008080; font-weight: bold\">1</span>            <span style=\"color: #000080; text-decoration-color: #000080\">│</span>\n",
              "<span style=\"color: #000080; text-decoration-color: #000080\">╰────────────────────────────╯</span>\n",
              "</pre>\n"
            ]
          },
          "metadata": {}
        },
        {
          "output_type": "display_data",
          "data": {
            "text/plain": [
              "y id: \u001b[1;36m140396850954480\u001b[0m, value: \u001b[1;36m1\u001b[0m\n"
            ],
            "text/html": [
              "<pre style=\"white-space:pre;overflow-x:auto;line-height:normal;font-family:Menlo,'DejaVu Sans Mono',consolas,'Courier New',monospace\">y id: <span style=\"color: #008080; text-decoration-color: #008080; font-weight: bold\">140396850954480</span>, value: <span style=\"color: #008080; text-decoration-color: #008080; font-weight: bold\">1</span>\n",
              "</pre>\n"
            ]
          },
          "metadata": {}
        },
        {
          "output_type": "display_data",
          "data": {
            "text/plain": [
              "id of y same as id of x : \u001b[3;91mFalse\u001b[0m\n"
            ],
            "text/html": [
              "<pre style=\"white-space:pre;overflow-x:auto;line-height:normal;font-family:Menlo,'DejaVu Sans Mono',consolas,'Courier New',monospace\">id of y same as id of x : <span style=\"color: #ff0000; text-decoration-color: #ff0000; font-style: italic\">False</span>\n",
              "</pre>\n"
            ]
          },
          "metadata": {}
        },
        {
          "output_type": "display_data",
          "data": {
            "text/plain": [
              "id of y same as id of \u001b[1;36m1\u001b[0m : \u001b[3;92mTrue\u001b[0m\n"
            ],
            "text/html": [
              "<pre style=\"white-space:pre;overflow-x:auto;line-height:normal;font-family:Menlo,'DejaVu Sans Mono',consolas,'Courier New',monospace\">id of y same as id of <span style=\"color: #008080; text-decoration-color: #008080; font-weight: bold\">1</span> : <span style=\"color: #00ff00; text-decoration-color: #00ff00; font-style: italic\">True</span>\n",
              "</pre>\n"
            ]
          },
          "metadata": {}
        },
        {
          "output_type": "display_data",
          "data": {
            "text/plain": [
              "\u001b[34m╭─\u001b[0m\u001b[34m─────\u001b[0m\u001b[34m \u001b[0m\u001b[1;34m<\u001b[0m\u001b[1;95mclass\u001b[0m\u001b[39m \u001b[0m\u001b[32m'int'\u001b[0m\u001b[1;34m>\u001b[0m\u001b[34m \u001b[0m\u001b[34m──────\u001b[0m\u001b[34m─╮\u001b[0m\n",
              "\u001b[34m│\u001b[0m \u001b[1;35mint\u001b[0m\u001b[1;36m(\u001b[0m\u001b[1;36m[\u001b[0m\u001b[36mx\u001b[0m\u001b[1;36m]\u001b[0m\u001b[1;36m)\u001b[0m\u001b[36m -> integer\u001b[0m        \u001b[34m│\u001b[0m\n",
              "\u001b[34m│\u001b[0m \u001b[1;35mint\u001b[0m\u001b[1;36m(\u001b[0m\u001b[36mx, \u001b[0m\u001b[33mbase\u001b[0m\u001b[36m=\u001b[0m\u001b[1;36m10\u001b[0m\u001b[1;36m)\u001b[0m\u001b[36m -> integer\u001b[0m \u001b[34m│\u001b[0m\n",
              "\u001b[34m│\u001b[0m                            \u001b[34m│\u001b[0m\n",
              "\u001b[34m│\u001b[0m \u001b[32m╭────────────────────────╮\u001b[0m \u001b[34m│\u001b[0m\n",
              "\u001b[34m│\u001b[0m \u001b[32m│\u001b[0m \u001b[1;36m2\u001b[0m                      \u001b[32m│\u001b[0m \u001b[34m│\u001b[0m\n",
              "\u001b[34m│\u001b[0m \u001b[32m╰────────────────────────╯\u001b[0m \u001b[34m│\u001b[0m\n",
              "\u001b[34m│\u001b[0m                            \u001b[34m│\u001b[0m\n",
              "\u001b[34m│\u001b[0m \u001b[3;33mdenominator\u001b[0m = \u001b[1;36m1\u001b[0m            \u001b[34m│\u001b[0m\n",
              "\u001b[34m│\u001b[0m        \u001b[3;33mimag\u001b[0m = \u001b[1;36m0\u001b[0m            \u001b[34m│\u001b[0m\n",
              "\u001b[34m│\u001b[0m   \u001b[3;33mnumerator\u001b[0m = \u001b[1;36m2\u001b[0m            \u001b[34m│\u001b[0m\n",
              "\u001b[34m│\u001b[0m        \u001b[3;33mreal\u001b[0m = \u001b[1;36m2\u001b[0m            \u001b[34m│\u001b[0m\n",
              "\u001b[34m╰────────────────────────────╯\u001b[0m\n"
            ],
            "text/html": [
              "<pre style=\"white-space:pre;overflow-x:auto;line-height:normal;font-family:Menlo,'DejaVu Sans Mono',consolas,'Courier New',monospace\"><span style=\"color: #000080; text-decoration-color: #000080\">╭────── </span><span style=\"color: #000080; text-decoration-color: #000080; font-weight: bold\">&lt;</span><span style=\"color: #ff00ff; text-decoration-color: #ff00ff; font-weight: bold\">class</span><span style=\"color: #000000; text-decoration-color: #000000\"> </span><span style=\"color: #008000; text-decoration-color: #008000\">'int'</span><span style=\"color: #000080; text-decoration-color: #000080; font-weight: bold\">&gt;</span><span style=\"color: #000080; text-decoration-color: #000080\"> ───────╮</span>\n",
              "<span style=\"color: #000080; text-decoration-color: #000080\">│</span> <span style=\"color: #800080; text-decoration-color: #800080; font-weight: bold\">int</span><span style=\"color: #008080; text-decoration-color: #008080; font-weight: bold\">([</span><span style=\"color: #008080; text-decoration-color: #008080\">x</span><span style=\"color: #008080; text-decoration-color: #008080; font-weight: bold\">])</span><span style=\"color: #008080; text-decoration-color: #008080\"> -&gt; integer</span>        <span style=\"color: #000080; text-decoration-color: #000080\">│</span>\n",
              "<span style=\"color: #000080; text-decoration-color: #000080\">│</span> <span style=\"color: #800080; text-decoration-color: #800080; font-weight: bold\">int</span><span style=\"color: #008080; text-decoration-color: #008080; font-weight: bold\">(</span><span style=\"color: #008080; text-decoration-color: #008080\">x, </span><span style=\"color: #808000; text-decoration-color: #808000\">base</span><span style=\"color: #008080; text-decoration-color: #008080\">=</span><span style=\"color: #008080; text-decoration-color: #008080; font-weight: bold\">10</span><span style=\"color: #008080; text-decoration-color: #008080; font-weight: bold\">)</span><span style=\"color: #008080; text-decoration-color: #008080\"> -&gt; integer</span> <span style=\"color: #000080; text-decoration-color: #000080\">│</span>\n",
              "<span style=\"color: #000080; text-decoration-color: #000080\">│</span>                            <span style=\"color: #000080; text-decoration-color: #000080\">│</span>\n",
              "<span style=\"color: #000080; text-decoration-color: #000080\">│</span> <span style=\"color: #008000; text-decoration-color: #008000\">╭────────────────────────╮</span> <span style=\"color: #000080; text-decoration-color: #000080\">│</span>\n",
              "<span style=\"color: #000080; text-decoration-color: #000080\">│</span> <span style=\"color: #008000; text-decoration-color: #008000\">│</span> <span style=\"color: #008080; text-decoration-color: #008080; font-weight: bold\">2</span>                      <span style=\"color: #008000; text-decoration-color: #008000\">│</span> <span style=\"color: #000080; text-decoration-color: #000080\">│</span>\n",
              "<span style=\"color: #000080; text-decoration-color: #000080\">│</span> <span style=\"color: #008000; text-decoration-color: #008000\">╰────────────────────────╯</span> <span style=\"color: #000080; text-decoration-color: #000080\">│</span>\n",
              "<span style=\"color: #000080; text-decoration-color: #000080\">│</span>                            <span style=\"color: #000080; text-decoration-color: #000080\">│</span>\n",
              "<span style=\"color: #000080; text-decoration-color: #000080\">│</span> <span style=\"color: #808000; text-decoration-color: #808000; font-style: italic\">denominator</span> = <span style=\"color: #008080; text-decoration-color: #008080; font-weight: bold\">1</span>            <span style=\"color: #000080; text-decoration-color: #000080\">│</span>\n",
              "<span style=\"color: #000080; text-decoration-color: #000080\">│</span>        <span style=\"color: #808000; text-decoration-color: #808000; font-style: italic\">imag</span> = <span style=\"color: #008080; text-decoration-color: #008080; font-weight: bold\">0</span>            <span style=\"color: #000080; text-decoration-color: #000080\">│</span>\n",
              "<span style=\"color: #000080; text-decoration-color: #000080\">│</span>   <span style=\"color: #808000; text-decoration-color: #808000; font-style: italic\">numerator</span> = <span style=\"color: #008080; text-decoration-color: #008080; font-weight: bold\">2</span>            <span style=\"color: #000080; text-decoration-color: #000080\">│</span>\n",
              "<span style=\"color: #000080; text-decoration-color: #000080\">│</span>        <span style=\"color: #808000; text-decoration-color: #808000; font-style: italic\">real</span> = <span style=\"color: #008080; text-decoration-color: #008080; font-weight: bold\">2</span>            <span style=\"color: #000080; text-decoration-color: #000080\">│</span>\n",
              "<span style=\"color: #000080; text-decoration-color: #000080\">╰────────────────────────────╯</span>\n",
              "</pre>\n"
            ]
          },
          "metadata": {}
        },
        {
          "output_type": "display_data",
          "data": {
            "text/plain": [
              "y id: \u001b[1;36m140396850954512\u001b[0m, value: \u001b[1;36m2\u001b[0m\n"
            ],
            "text/html": [
              "<pre style=\"white-space:pre;overflow-x:auto;line-height:normal;font-family:Menlo,'DejaVu Sans Mono',consolas,'Courier New',monospace\">y id: <span style=\"color: #008080; text-decoration-color: #008080; font-weight: bold\">140396850954512</span>, value: <span style=\"color: #008080; text-decoration-color: #008080; font-weight: bold\">2</span>\n",
              "</pre>\n"
            ]
          },
          "metadata": {}
        }
      ]
    },
    {
      "cell_type": "markdown",
      "source": [
        "## Question: What are the objects: x and y or 1 and 2?"
      ],
      "metadata": {
        "id": "mKPG1SYsWRKa"
      }
    },
    {
      "cell_type": "code",
      "source": [
        "print(f\"id of y same as id of x and 2 : {id(x) == id(y)}\")"
      ],
      "metadata": {
        "colab": {
          "base_uri": "https://localhost:8080/",
          "height": 34
        },
        "id": "cvDwB6_aW82r",
        "outputId": "81c47ad3-22f9-4ac6-e076-a1998d19078f"
      },
      "execution_count": 34,
      "outputs": [
        {
          "output_type": "display_data",
          "data": {
            "text/plain": [
              "id of y same as id of x and \u001b[1;36m2\u001b[0m : \u001b[3;92mTrue\u001b[0m\n"
            ],
            "text/html": [
              "<pre style=\"white-space:pre;overflow-x:auto;line-height:normal;font-family:Menlo,'DejaVu Sans Mono',consolas,'Courier New',monospace\">id of y same as id of x and <span style=\"color: #008080; text-decoration-color: #008080; font-weight: bold\">2</span> : <span style=\"color: #00ff00; text-decoration-color: #00ff00; font-style: italic\">True</span>\n",
              "</pre>\n"
            ]
          },
          "metadata": {}
        }
      ]
    },
    {
      "cell_type": "markdown",
      "source": [
        "# Mutable and immutable objects\n",
        "\n",
        "The value of *some* objects can change"
      ],
      "metadata": {
        "id": "jFqJvj_GMUpw"
      }
    },
    {
      "cell_type": "markdown",
      "source": [
        "## Create a object and assign it a value"
      ],
      "metadata": {
        "id": "jxiGXKJTMot_"
      }
    },
    {
      "cell_type": "code",
      "source": [
        "x = 1\n",
        "print(f\"x id: {id(x)}, value: {x}\")\n",
        "print(f\"id of x same as id of 1 : {id(x) == id(1)}\")"
      ],
      "metadata": {
        "colab": {
          "base_uri": "https://localhost:8080/",
          "height": 50
        },
        "id": "VZZl_bTnMhV8",
        "outputId": "3d4afe49-d6aa-4512-d8d1-af1e7d64f00e"
      },
      "execution_count": 35,
      "outputs": [
        {
          "output_type": "display_data",
          "data": {
            "text/plain": [
              "x id: \u001b[1;36m140396850954480\u001b[0m, value: \u001b[1;36m1\u001b[0m\n"
            ],
            "text/html": [
              "<pre style=\"white-space:pre;overflow-x:auto;line-height:normal;font-family:Menlo,'DejaVu Sans Mono',consolas,'Courier New',monospace\">x id: <span style=\"color: #008080; text-decoration-color: #008080; font-weight: bold\">140396850954480</span>, value: <span style=\"color: #008080; text-decoration-color: #008080; font-weight: bold\">1</span>\n",
              "</pre>\n"
            ]
          },
          "metadata": {}
        },
        {
          "output_type": "display_data",
          "data": {
            "text/plain": [
              "id of x same as id of \u001b[1;36m1\u001b[0m : \u001b[3;92mTrue\u001b[0m\n"
            ],
            "text/html": [
              "<pre style=\"white-space:pre;overflow-x:auto;line-height:normal;font-family:Menlo,'DejaVu Sans Mono',consolas,'Courier New',monospace\">id of x same as id of <span style=\"color: #008080; text-decoration-color: #008080; font-weight: bold\">1</span> : <span style=\"color: #00ff00; text-decoration-color: #00ff00; font-style: italic\">True</span>\n",
              "</pre>\n"
            ]
          },
          "metadata": {}
        }
      ]
    },
    {
      "cell_type": "markdown",
      "source": [
        "## Change the value"
      ],
      "metadata": {
        "id": "7G4vtYmJVDgE"
      }
    },
    {
      "cell_type": "code",
      "source": [
        "x = 2\n",
        "print(f\"x id: {id(x)}, value: {x}\")\n",
        "print(f\"id of x same as id of 2 : {id(x) == id(2)}\")"
      ],
      "metadata": {
        "colab": {
          "base_uri": "https://localhost:8080/",
          "height": 50
        },
        "id": "C7SaFbuvVGb5",
        "outputId": "70f06102-c162-4150-c0e8-6ef4f5d58e94"
      },
      "execution_count": 36,
      "outputs": [
        {
          "output_type": "display_data",
          "data": {
            "text/plain": [
              "x id: \u001b[1;36m140396850954512\u001b[0m, value: \u001b[1;36m2\u001b[0m\n"
            ],
            "text/html": [
              "<pre style=\"white-space:pre;overflow-x:auto;line-height:normal;font-family:Menlo,'DejaVu Sans Mono',consolas,'Courier New',monospace\">x id: <span style=\"color: #008080; text-decoration-color: #008080; font-weight: bold\">140396850954512</span>, value: <span style=\"color: #008080; text-decoration-color: #008080; font-weight: bold\">2</span>\n",
              "</pre>\n"
            ]
          },
          "metadata": {}
        },
        {
          "output_type": "display_data",
          "data": {
            "text/plain": [
              "id of x same as id of \u001b[1;36m2\u001b[0m : \u001b[3;92mTrue\u001b[0m\n"
            ],
            "text/html": [
              "<pre style=\"white-space:pre;overflow-x:auto;line-height:normal;font-family:Menlo,'DejaVu Sans Mono',consolas,'Courier New',monospace\">id of x same as id of <span style=\"color: #008080; text-decoration-color: #008080; font-weight: bold\">2</span> : <span style=\"color: #00ff00; text-decoration-color: #00ff00; font-style: italic\">True</span>\n",
              "</pre>\n"
            ]
          },
          "metadata": {}
        }
      ]
    },
    {
      "cell_type": "markdown",
      "source": [
        "## Create a list object"
      ],
      "metadata": {
        "id": "27uF65Y5M1OF"
      }
    },
    {
      "cell_type": "code",
      "execution_count": 37,
      "metadata": {
        "colab": {
          "base_uri": "https://localhost:8080/",
          "height": 215
        },
        "id": "fTiXGPrIMECw",
        "outputId": "e7d92ca7-516b-4025-84b6-1d5829f96f02"
      },
      "outputs": [
        {
          "output_type": "display_data",
          "data": {
            "text/plain": [
              "\u001b[34m╭─\u001b[0m\u001b[34m──────────────────────\u001b[0m\u001b[34m \u001b[0m\u001b[1;34m<\u001b[0m\u001b[1;95mclass\u001b[0m\u001b[39m \u001b[0m\u001b[32m'list'\u001b[0m\u001b[1;34m>\u001b[0m\u001b[34m \u001b[0m\u001b[34m──────────────────────\u001b[0m\u001b[34m─╮\u001b[0m\n",
              "\u001b[34m│\u001b[0m \u001b[36mBuilt-in mutable sequence.\u001b[0m                                   \u001b[34m│\u001b[0m\n",
              "\u001b[34m│\u001b[0m                                                              \u001b[34m│\u001b[0m\n",
              "\u001b[34m│\u001b[0m \u001b[32m╭──────────────────────────────────────────────────────────╮\u001b[0m \u001b[34m│\u001b[0m\n",
              "\u001b[34m│\u001b[0m \u001b[32m│\u001b[0m \u001b[1m[\u001b[0m\u001b[1;36m1\u001b[0m, \u001b[1;36m2\u001b[0m\u001b[1m]\u001b[0m                                                   \u001b[32m│\u001b[0m \u001b[34m│\u001b[0m\n",
              "\u001b[34m│\u001b[0m \u001b[32m╰──────────────────────────────────────────────────────────╯\u001b[0m \u001b[34m│\u001b[0m\n",
              "\u001b[34m│\u001b[0m                                                              \u001b[34m│\u001b[0m\n",
              "\u001b[34m│\u001b[0m \u001b[1;36m36\u001b[0m\u001b[3m attribute(s) not shown.\u001b[0m Run \u001b[1;35minspect\u001b[0m\u001b[1m(\u001b[0minspect\u001b[1m)\u001b[0m for options. \u001b[34m│\u001b[0m\n",
              "\u001b[34m╰──────────────────────────────────────────────────────────────╯\u001b[0m\n"
            ],
            "text/html": [
              "<pre style=\"white-space:pre;overflow-x:auto;line-height:normal;font-family:Menlo,'DejaVu Sans Mono',consolas,'Courier New',monospace\"><span style=\"color: #000080; text-decoration-color: #000080\">╭─────────────────────── </span><span style=\"color: #000080; text-decoration-color: #000080; font-weight: bold\">&lt;</span><span style=\"color: #ff00ff; text-decoration-color: #ff00ff; font-weight: bold\">class</span><span style=\"color: #000000; text-decoration-color: #000000\"> </span><span style=\"color: #008000; text-decoration-color: #008000\">'list'</span><span style=\"color: #000080; text-decoration-color: #000080; font-weight: bold\">&gt;</span><span style=\"color: #000080; text-decoration-color: #000080\"> ───────────────────────╮</span>\n",
              "<span style=\"color: #000080; text-decoration-color: #000080\">│</span> <span style=\"color: #008080; text-decoration-color: #008080\">Built-in mutable sequence.</span>                                   <span style=\"color: #000080; text-decoration-color: #000080\">│</span>\n",
              "<span style=\"color: #000080; text-decoration-color: #000080\">│</span>                                                              <span style=\"color: #000080; text-decoration-color: #000080\">│</span>\n",
              "<span style=\"color: #000080; text-decoration-color: #000080\">│</span> <span style=\"color: #008000; text-decoration-color: #008000\">╭──────────────────────────────────────────────────────────╮</span> <span style=\"color: #000080; text-decoration-color: #000080\">│</span>\n",
              "<span style=\"color: #000080; text-decoration-color: #000080\">│</span> <span style=\"color: #008000; text-decoration-color: #008000\">│</span> <span style=\"font-weight: bold\">[</span><span style=\"color: #008080; text-decoration-color: #008080; font-weight: bold\">1</span>, <span style=\"color: #008080; text-decoration-color: #008080; font-weight: bold\">2</span><span style=\"font-weight: bold\">]</span>                                                   <span style=\"color: #008000; text-decoration-color: #008000\">│</span> <span style=\"color: #000080; text-decoration-color: #000080\">│</span>\n",
              "<span style=\"color: #000080; text-decoration-color: #000080\">│</span> <span style=\"color: #008000; text-decoration-color: #008000\">╰──────────────────────────────────────────────────────────╯</span> <span style=\"color: #000080; text-decoration-color: #000080\">│</span>\n",
              "<span style=\"color: #000080; text-decoration-color: #000080\">│</span>                                                              <span style=\"color: #000080; text-decoration-color: #000080\">│</span>\n",
              "<span style=\"color: #000080; text-decoration-color: #000080\">│</span> <span style=\"color: #008080; text-decoration-color: #008080; font-weight: bold\">36</span><span style=\"font-style: italic\"> attribute(s) not shown.</span> Run <span style=\"color: #800080; text-decoration-color: #800080; font-weight: bold\">inspect</span><span style=\"font-weight: bold\">(</span>inspect<span style=\"font-weight: bold\">)</span> for options. <span style=\"color: #000080; text-decoration-color: #000080\">│</span>\n",
              "<span style=\"color: #000080; text-decoration-color: #000080\">╰──────────────────────────────────────────────────────────────╯</span>\n",
              "</pre>\n"
            ]
          },
          "metadata": {}
        },
        {
          "output_type": "display_data",
          "data": {
            "text/plain": [
              "y id: \u001b[1;36m140395805820800\u001b[0m, value: \u001b[1m[\u001b[0m\u001b[1;36m1\u001b[0m, \u001b[1;36m2\u001b[0m\u001b[1m]\u001b[0m\n"
            ],
            "text/html": [
              "<pre style=\"white-space:pre;overflow-x:auto;line-height:normal;font-family:Menlo,'DejaVu Sans Mono',consolas,'Courier New',monospace\">y id: <span style=\"color: #008080; text-decoration-color: #008080; font-weight: bold\">140395805820800</span>, value: <span style=\"font-weight: bold\">[</span><span style=\"color: #008080; text-decoration-color: #008080; font-weight: bold\">1</span>, <span style=\"color: #008080; text-decoration-color: #008080; font-weight: bold\">2</span><span style=\"font-weight: bold\">]</span>\n",
              "</pre>\n"
            ]
          },
          "metadata": {}
        },
        {
          "output_type": "display_data",
          "data": {
            "text/plain": [
              "id of y\u001b[1m[\u001b[0m\u001b[1;36m0\u001b[0m\u001b[1m]\u001b[0m same as id of \u001b[1;36m1\u001b[0m : \u001b[3;92mTrue\u001b[0m\n"
            ],
            "text/html": [
              "<pre style=\"white-space:pre;overflow-x:auto;line-height:normal;font-family:Menlo,'DejaVu Sans Mono',consolas,'Courier New',monospace\">id of y<span style=\"font-weight: bold\">[</span><span style=\"color: #008080; text-decoration-color: #008080; font-weight: bold\">0</span><span style=\"font-weight: bold\">]</span> same as id of <span style=\"color: #008080; text-decoration-color: #008080; font-weight: bold\">1</span> : <span style=\"color: #00ff00; text-decoration-color: #00ff00; font-style: italic\">True</span>\n",
              "</pre>\n"
            ]
          },
          "metadata": {}
        },
        {
          "output_type": "display_data",
          "data": {
            "text/plain": [
              "id of y\u001b[1m[\u001b[0m\u001b[1;36m1\u001b[0m\u001b[1m]\u001b[0m same as id of \u001b[1;36m2\u001b[0m : \u001b[3;92mTrue\u001b[0m\n"
            ],
            "text/html": [
              "<pre style=\"white-space:pre;overflow-x:auto;line-height:normal;font-family:Menlo,'DejaVu Sans Mono',consolas,'Courier New',monospace\">id of y<span style=\"font-weight: bold\">[</span><span style=\"color: #008080; text-decoration-color: #008080; font-weight: bold\">1</span><span style=\"font-weight: bold\">]</span> same as id of <span style=\"color: #008080; text-decoration-color: #008080; font-weight: bold\">2</span> : <span style=\"color: #00ff00; text-decoration-color: #00ff00; font-style: italic\">True</span>\n",
              "</pre>\n"
            ]
          },
          "metadata": {}
        }
      ],
      "source": [
        "y = [1,2]\n",
        "inspect(y)\n",
        "print(f\"y id: {id(y)}, value: {y}\")\n",
        "print(f\"id of y[0] same as id of 1 : {id(y[0]) == id(1)}\")\n",
        "print(f\"id of y[1] same as id of 2 : {id(y[1]) == id(2)}\")"
      ]
    },
    {
      "cell_type": "markdown",
      "source": [
        "## Change the value"
      ],
      "metadata": {
        "id": "1HvHrAH9VeE3"
      }
    },
    {
      "cell_type": "code",
      "source": [
        "y.append(3)\n",
        "inspect(y)\n",
        "print(f\"y id: {id(y)}, value: {y}\")\n",
        "print(f\"id of y[2] same as id of 3 : {id(y[2]) == id(3)}\")"
      ],
      "metadata": {
        "colab": {
          "base_uri": "https://localhost:8080/",
          "height": 199
        },
        "id": "vjmf44FPVa4e",
        "outputId": "75db8f94-8f01-41ce-8f44-ac445b6da9ed"
      },
      "execution_count": 38,
      "outputs": [
        {
          "output_type": "display_data",
          "data": {
            "text/plain": [
              "\u001b[34m╭─\u001b[0m\u001b[34m──────────────────────\u001b[0m\u001b[34m \u001b[0m\u001b[1;34m<\u001b[0m\u001b[1;95mclass\u001b[0m\u001b[39m \u001b[0m\u001b[32m'list'\u001b[0m\u001b[1;34m>\u001b[0m\u001b[34m \u001b[0m\u001b[34m──────────────────────\u001b[0m\u001b[34m─╮\u001b[0m\n",
              "\u001b[34m│\u001b[0m \u001b[36mBuilt-in mutable sequence.\u001b[0m                                   \u001b[34m│\u001b[0m\n",
              "\u001b[34m│\u001b[0m                                                              \u001b[34m│\u001b[0m\n",
              "\u001b[34m│\u001b[0m \u001b[32m╭──────────────────────────────────────────────────────────╮\u001b[0m \u001b[34m│\u001b[0m\n",
              "\u001b[34m│\u001b[0m \u001b[32m│\u001b[0m \u001b[1m[\u001b[0m\u001b[1;36m1\u001b[0m, \u001b[1;36m2\u001b[0m, \u001b[1;36m3\u001b[0m\u001b[1m]\u001b[0m                                                \u001b[32m│\u001b[0m \u001b[34m│\u001b[0m\n",
              "\u001b[34m│\u001b[0m \u001b[32m╰──────────────────────────────────────────────────────────╯\u001b[0m \u001b[34m│\u001b[0m\n",
              "\u001b[34m│\u001b[0m                                                              \u001b[34m│\u001b[0m\n",
              "\u001b[34m│\u001b[0m \u001b[1;36m36\u001b[0m\u001b[3m attribute(s) not shown.\u001b[0m Run \u001b[1;35minspect\u001b[0m\u001b[1m(\u001b[0minspect\u001b[1m)\u001b[0m for options. \u001b[34m│\u001b[0m\n",
              "\u001b[34m╰──────────────────────────────────────────────────────────────╯\u001b[0m\n"
            ],
            "text/html": [
              "<pre style=\"white-space:pre;overflow-x:auto;line-height:normal;font-family:Menlo,'DejaVu Sans Mono',consolas,'Courier New',monospace\"><span style=\"color: #000080; text-decoration-color: #000080\">╭─────────────────────── </span><span style=\"color: #000080; text-decoration-color: #000080; font-weight: bold\">&lt;</span><span style=\"color: #ff00ff; text-decoration-color: #ff00ff; font-weight: bold\">class</span><span style=\"color: #000000; text-decoration-color: #000000\"> </span><span style=\"color: #008000; text-decoration-color: #008000\">'list'</span><span style=\"color: #000080; text-decoration-color: #000080; font-weight: bold\">&gt;</span><span style=\"color: #000080; text-decoration-color: #000080\"> ───────────────────────╮</span>\n",
              "<span style=\"color: #000080; text-decoration-color: #000080\">│</span> <span style=\"color: #008080; text-decoration-color: #008080\">Built-in mutable sequence.</span>                                   <span style=\"color: #000080; text-decoration-color: #000080\">│</span>\n",
              "<span style=\"color: #000080; text-decoration-color: #000080\">│</span>                                                              <span style=\"color: #000080; text-decoration-color: #000080\">│</span>\n",
              "<span style=\"color: #000080; text-decoration-color: #000080\">│</span> <span style=\"color: #008000; text-decoration-color: #008000\">╭──────────────────────────────────────────────────────────╮</span> <span style=\"color: #000080; text-decoration-color: #000080\">│</span>\n",
              "<span style=\"color: #000080; text-decoration-color: #000080\">│</span> <span style=\"color: #008000; text-decoration-color: #008000\">│</span> <span style=\"font-weight: bold\">[</span><span style=\"color: #008080; text-decoration-color: #008080; font-weight: bold\">1</span>, <span style=\"color: #008080; text-decoration-color: #008080; font-weight: bold\">2</span>, <span style=\"color: #008080; text-decoration-color: #008080; font-weight: bold\">3</span><span style=\"font-weight: bold\">]</span>                                                <span style=\"color: #008000; text-decoration-color: #008000\">│</span> <span style=\"color: #000080; text-decoration-color: #000080\">│</span>\n",
              "<span style=\"color: #000080; text-decoration-color: #000080\">│</span> <span style=\"color: #008000; text-decoration-color: #008000\">╰──────────────────────────────────────────────────────────╯</span> <span style=\"color: #000080; text-decoration-color: #000080\">│</span>\n",
              "<span style=\"color: #000080; text-decoration-color: #000080\">│</span>                                                              <span style=\"color: #000080; text-decoration-color: #000080\">│</span>\n",
              "<span style=\"color: #000080; text-decoration-color: #000080\">│</span> <span style=\"color: #008080; text-decoration-color: #008080; font-weight: bold\">36</span><span style=\"font-style: italic\"> attribute(s) not shown.</span> Run <span style=\"color: #800080; text-decoration-color: #800080; font-weight: bold\">inspect</span><span style=\"font-weight: bold\">(</span>inspect<span style=\"font-weight: bold\">)</span> for options. <span style=\"color: #000080; text-decoration-color: #000080\">│</span>\n",
              "<span style=\"color: #000080; text-decoration-color: #000080\">╰──────────────────────────────────────────────────────────────╯</span>\n",
              "</pre>\n"
            ]
          },
          "metadata": {}
        },
        {
          "output_type": "display_data",
          "data": {
            "text/plain": [
              "y id: \u001b[1;36m140395805820800\u001b[0m, value: \u001b[1m[\u001b[0m\u001b[1;36m1\u001b[0m, \u001b[1;36m2\u001b[0m, \u001b[1;36m3\u001b[0m\u001b[1m]\u001b[0m\n"
            ],
            "text/html": [
              "<pre style=\"white-space:pre;overflow-x:auto;line-height:normal;font-family:Menlo,'DejaVu Sans Mono',consolas,'Courier New',monospace\">y id: <span style=\"color: #008080; text-decoration-color: #008080; font-weight: bold\">140395805820800</span>, value: <span style=\"font-weight: bold\">[</span><span style=\"color: #008080; text-decoration-color: #008080; font-weight: bold\">1</span>, <span style=\"color: #008080; text-decoration-color: #008080; font-weight: bold\">2</span>, <span style=\"color: #008080; text-decoration-color: #008080; font-weight: bold\">3</span><span style=\"font-weight: bold\">]</span>\n",
              "</pre>\n"
            ]
          },
          "metadata": {}
        },
        {
          "output_type": "display_data",
          "data": {
            "text/plain": [
              "id of y\u001b[1m[\u001b[0m\u001b[1;36m2\u001b[0m\u001b[1m]\u001b[0m same as id of \u001b[1;36m3\u001b[0m : \u001b[3;92mTrue\u001b[0m\n"
            ],
            "text/html": [
              "<pre style=\"white-space:pre;overflow-x:auto;line-height:normal;font-family:Menlo,'DejaVu Sans Mono',consolas,'Courier New',monospace\">id of y<span style=\"font-weight: bold\">[</span><span style=\"color: #008080; text-decoration-color: #008080; font-weight: bold\">2</span><span style=\"font-weight: bold\">]</span> same as id of <span style=\"color: #008080; text-decoration-color: #008080; font-weight: bold\">3</span> : <span style=\"color: #00ff00; text-decoration-color: #00ff00; font-style: italic\">True</span>\n",
              "</pre>\n"
            ]
          },
          "metadata": {}
        }
      ]
    },
    {
      "cell_type": "markdown",
      "source": [
        "## Why did the id change for x but not y?"
      ],
      "metadata": {
        "id": "PEJD6ofBVrDe"
      }
    },
    {
      "cell_type": "code",
      "source": [
        "class Foo:\n",
        "  pass\n",
        "\n",
        "class Bar:\n",
        "  pass\n",
        "\n",
        "f1,f2 = Foo(), Foo()\n",
        "print(f\"f1 type: {type(f1)} \\nf2 type: {type(f2)}\")\n",
        "\n",
        "f2.__class__ = Bar\n",
        "print(f\"f1 type: {type(f1)} \\nf2 type: {type(f2)}\")\n",
        "\n",
        "f2.__class__ = list"
      ],
      "metadata": {
        "colab": {
          "base_uri": "https://localhost:8080/",
          "height": 149
        },
        "id": "8Gp2kDmvgs2N",
        "outputId": "30bf6764-5bd2-4149-b578-a7ca82681474"
      },
      "execution_count": 39,
      "outputs": [
        {
          "output_type": "display_data",
          "data": {
            "text/plain": [
              "f1 type: \u001b[1m<\u001b[0m\u001b[1;95mclass\u001b[0m\u001b[39m \u001b[0m\u001b[32m'__main__.Foo'\u001b[0m\u001b[39m> \u001b[0m\n",
              "\u001b[39mf2 type: <class \u001b[0m\u001b[32m'__main__.Foo'\u001b[0m\u001b[1m>\u001b[0m\n"
            ],
            "text/html": [
              "<pre style=\"white-space:pre;overflow-x:auto;line-height:normal;font-family:Menlo,'DejaVu Sans Mono',consolas,'Courier New',monospace\">f1 type: <span style=\"font-weight: bold\">&lt;</span><span style=\"color: #ff00ff; text-decoration-color: #ff00ff; font-weight: bold\">class</span><span style=\"color: #000000; text-decoration-color: #000000\"> </span><span style=\"color: #008000; text-decoration-color: #008000\">'__main__.Foo'</span><span style=\"color: #000000; text-decoration-color: #000000\">&gt; </span>\n",
              "<span style=\"color: #000000; text-decoration-color: #000000\">f2 type: &lt;class </span><span style=\"color: #008000; text-decoration-color: #008000\">'__main__.Foo'</span><span style=\"font-weight: bold\">&gt;</span>\n",
              "</pre>\n"
            ]
          },
          "metadata": {}
        },
        {
          "output_type": "display_data",
          "data": {
            "text/plain": [
              "f1 type: \u001b[1m<\u001b[0m\u001b[1;95mclass\u001b[0m\u001b[39m \u001b[0m\u001b[32m'__main__.Foo'\u001b[0m\u001b[39m> \u001b[0m\n",
              "\u001b[39mf2 type: <class \u001b[0m\u001b[32m'__main__.Bar'\u001b[0m\u001b[1m>\u001b[0m\n"
            ],
            "text/html": [
              "<pre style=\"white-space:pre;overflow-x:auto;line-height:normal;font-family:Menlo,'DejaVu Sans Mono',consolas,'Courier New',monospace\">f1 type: <span style=\"font-weight: bold\">&lt;</span><span style=\"color: #ff00ff; text-decoration-color: #ff00ff; font-weight: bold\">class</span><span style=\"color: #000000; text-decoration-color: #000000\"> </span><span style=\"color: #008000; text-decoration-color: #008000\">'__main__.Foo'</span><span style=\"color: #000000; text-decoration-color: #000000\">&gt; </span>\n",
              "<span style=\"color: #000000; text-decoration-color: #000000\">f2 type: &lt;class </span><span style=\"color: #008000; text-decoration-color: #008000\">'__main__.Bar'</span><span style=\"font-weight: bold\">&gt;</span>\n",
              "</pre>\n"
            ]
          },
          "metadata": {}
        },
        {
          "output_type": "display_data",
          "data": {
            "text/plain": [
              "\u001b[31m╭─\u001b[0m\u001b[31m──────────────────────────────\u001b[0m\u001b[31m \u001b[0m\u001b[1;31mTraceback \u001b[0m\u001b[1;2;31m(most recent call last)\u001b[0m\u001b[31m \u001b[0m\u001b[31m───────────────────────────────\u001b[0m\u001b[31m─╮\u001b[0m\n",
              "\u001b[31m│\u001b[0m in \u001b[92m<cell line: 13>\u001b[0m:\u001b[94m13\u001b[0m                                                                            \u001b[31m│\u001b[0m\n",
              "\u001b[31m╰──────────────────────────────────────────────────────────────────────────────────────────────────╯\u001b[0m\n",
              "\u001b[1;91mTypeError: \u001b[0m__class__ assignment only supported for mutable types or ModuleType subclasses\n"
            ],
            "text/html": [
              "<pre style=\"white-space:pre;overflow-x:auto;line-height:normal;font-family:Menlo,'DejaVu Sans Mono',consolas,'Courier New',monospace\"><span style=\"color: #800000; text-decoration-color: #800000\">╭─────────────────────────────── </span><span style=\"color: #800000; text-decoration-color: #800000; font-weight: bold\">Traceback </span><span style=\"color: #bf7f7f; text-decoration-color: #bf7f7f; font-weight: bold\">(most recent call last)</span><span style=\"color: #800000; text-decoration-color: #800000\"> ────────────────────────────────╮</span>\n",
              "<span style=\"color: #800000; text-decoration-color: #800000\">│</span> in <span style=\"color: #00ff00; text-decoration-color: #00ff00\">&lt;cell line: 13&gt;</span>:<span style=\"color: #0000ff; text-decoration-color: #0000ff\">13</span>                                                                            <span style=\"color: #800000; text-decoration-color: #800000\">│</span>\n",
              "<span style=\"color: #800000; text-decoration-color: #800000\">╰──────────────────────────────────────────────────────────────────────────────────────────────────╯</span>\n",
              "<span style=\"color: #ff0000; text-decoration-color: #ff0000; font-weight: bold\">TypeError: </span>__class__ assignment only supported for mutable types or ModuleType subclasses\n",
              "</pre>\n"
            ]
          },
          "metadata": {}
        }
      ]
    },
    {
      "cell_type": "markdown",
      "source": [
        "# References\n",
        "\n",
        "- https://docs.python.org/3/reference/datamodel.html\n"
      ],
      "metadata": {
        "id": "jg_tucMzmcw6"
      }
    }
  ]
}